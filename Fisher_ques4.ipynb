{
 "cells": [
  {
   "cell_type": "code",
   "execution_count": 5,
   "metadata": {},
   "outputs": [],
   "source": [
    "#Author name: Satendra Yadav\n",
    "#report and source code and outputs\n",
    "# ques 4"
   ]
  },
  {
   "cell_type": "markdown",
   "metadata": {},
   "source": [
    "## Importing Libraries"
   ]
  },
  {
   "cell_type": "code",
   "execution_count": 6,
   "metadata": {},
   "outputs": [],
   "source": [
    "import numpy as np\n",
    "import pandas as pd\n",
    "from matplotlib import pyplot as plt\n",
    "import matplotlib.image as img\n",
    "import os\n",
    "import seaborn as sns\n",
    "import matplotlib.pyplot as plt\n",
    "from collections import Counter"
   ]
  },
  {
   "cell_type": "markdown",
   "metadata": {},
   "source": [
    "## Loading images "
   ]
  },
  {
   "cell_type": "code",
   "execution_count": 7,
   "metadata": {},
   "outputs": [],
   "source": [
    "# Data input path:\n",
    "BASE = 'Data/emotion_classification/'"
   ]
  },
  {
   "cell_type": "code",
   "execution_count": 8,
   "metadata": {},
   "outputs": [],
   "source": [
    "filepaths_train = [] # Contains the absolute paths of all the image files\n",
    "filepaths_test = []\n",
    "for s_i in os.listdir(BASE+'train/'): # The folders containing the files are labelled as subject01.happy, subject02.happy, etc \n",
    "        filepaths_train.append(BASE+'train/' + s_i)\n",
    "for s_i in os.listdir(BASE+'test/'): # The folders containing the files are labelled as as subject01.sad,etc \n",
    "        filepaths_test.append(BASE +'test/'+ s_i)"
   ]
  },
  {
   "cell_type": "code",
   "execution_count": 9,
   "metadata": {},
   "outputs": [],
   "source": [
    "df1 = pd.DataFrame({'filepaths1':filepaths_train})  #dataframe to store filepaths of train images\n",
    "df2 = pd.DataFrame({'filepaths2':filepaths_test})   #dataframe to store filepaths of test images"
   ]
  },
  {
   "cell_type": "code",
   "execution_count": 10,
   "metadata": {},
   "outputs": [],
   "source": [
    "#storing train images in array named as x_train\n",
    "images = []\n",
    "for filepath in df1['filepaths1']:\n",
    "    images.append(img.imread(filepath, 0).flatten())\n",
    "x_train = np.array(images)\n"
   ]
  },
  {
   "cell_type": "code",
   "execution_count": 11,
   "metadata": {},
   "outputs": [],
   "source": [
    "#storing test images in array named as x_test\n",
    "images1 = []\n",
    "for filepath in df2['filepaths2']:\n",
    "    images1.append(img.imread(filepath, 0).flatten())\n",
    "x_test = np.array(images1)\n"
   ]
  },
  {
   "cell_type": "code",
   "execution_count": 12,
   "metadata": {},
   "outputs": [],
   "source": [
    "#storing train images labels in array named as train_y\n",
    "label=[]\n",
    "train_y=[]\n",
    "for filepath in df1['filepaths1']:\n",
    "    label.append(filepath[44:45])\n",
    "for i in label:\n",
    "    if i=='h':\n",
    "        train_y.append(1)\n",
    "    else:\n",
    "        train_y.append(0)\n",
    "y_train = np.array(train_y)   \n"
   ]
  },
  {
   "cell_type": "code",
   "execution_count": 13,
   "metadata": {},
   "outputs": [
    {
     "name": "stdout",
     "output_type": "stream",
     "text": [
      "['s', 'h', 'h', 's', 's', 'h', 'h', 'h', 'h', 's']\n"
     ]
    }
   ],
   "source": [
    "#storing test images labels in array named as test_y\n",
    "label=[]\n",
    "test_y=[]\n",
    "for filepath in df2['filepaths2']:\n",
    "    label.append(filepath[43:44])\n",
    "print(label)\n",
    "for i in label:\n",
    "    if i=='h':\n",
    "        test_y.append(1)\n",
    "    else:\n",
    "        test_y.append(0)\n",
    "y_test = np.array(test_y)   "
   ]
  },
  {
   "cell_type": "markdown",
   "metadata": {},
   "source": [
    "## Centering the data"
   ]
  },
  {
   "cell_type": "code",
   "execution_count": 14,
   "metadata": {},
   "outputs": [],
   "source": [
    "data_mean = x_train.mean(axis=0)\n",
    "x_train = x_train - data_mean\n",
    "x_test = x_test - data_mean"
   ]
  },
  {
   "cell_type": "code",
   "execution_count": 15,
   "metadata": {},
   "outputs": [
    {
     "data": {
      "text/plain": [
       "array([8.13518673e+07, 3.93221461e+07, 3.24692516e+07, 1.93360217e+07,\n",
       "       1.53448924e+07, 1.48530491e+07, 1.25407327e+07, 1.00795877e+07,\n",
       "       7.86345772e+06, 7.54817924e+06, 6.45100542e+06, 6.26153115e+06,\n",
       "       4.74969176e+06, 4.23894861e+06, 3.60987178e+06, 3.39283628e+06,\n",
       "       2.89195650e+06, 2.46185219e+06, 1.73952015e+06, 5.63576924e-24])"
      ]
     },
     "execution_count": 15,
     "metadata": {},
     "output_type": "execute_result"
    }
   ],
   "source": [
    "# To extract the principal components using Singular value decomposition\n",
    "# A_matrix = U_matrix S_matrix Vt_matrix\n",
    "# columns of V_matrix are the eig vectors of the covariance matrix that are required to us.\n",
    "# The eigen vectors are sorted according to the eigen values as required\n",
    "U_matrix, S_matrix, Vt_matrix = np.linalg.svd(x_train, full_matrices=True)\n",
    "\n",
    "# so the eigen values obtained are\n",
    "S_matrix ** 2"
   ]
  },
  {
   "cell_type": "code",
   "execution_count": 16,
   "metadata": {},
   "outputs": [],
   "source": [
    "# principal components\n",
    "components = Vt_matrix.T"
   ]
  },
  {
   "cell_type": "code",
   "execution_count": 17,
   "metadata": {},
   "outputs": [],
   "source": [
    "# After performing for different values \n",
    "#we will perform this for only a single value of K\n",
    "#by running different k we observed k= 18 gives optimal result as accuracy of 90%\n",
    "K = 18"
   ]
  },
  {
   "cell_type": "code",
   "execution_count": 18,
   "metadata": {},
   "outputs": [],
   "source": [
    "pca_k_train_x = np.matmul(x_train, components[: , :K])\n",
    "pca_k_test_x = np.matmul(x_test, components[: , :K])"
   ]
  },
  {
   "cell_type": "code",
   "execution_count": 19,
   "metadata": {},
   "outputs": [
    {
     "data": {
      "text/plain": [
       "((20, 18), (10, 18))"
      ]
     },
     "execution_count": 19,
     "metadata": {},
     "output_type": "execute_result"
    }
   ],
   "source": [
    "pca_k_train_x.shape, pca_k_test_x.shape"
   ]
  },
  {
   "cell_type": "code",
   "execution_count": 20,
   "metadata": {},
   "outputs": [],
   "source": [
    "# class means\n",
    "M0 = pca_k_train_x[y_train == 0].mean(axis=0)\n",
    "M1 = pca_k_train_x[y_train == 1].mean(axis=0)"
   ]
  },
  {
   "cell_type": "code",
   "execution_count": 21,
   "metadata": {},
   "outputs": [
    {
     "data": {
      "text/plain": [
       "((20, 18), (10, 18))"
      ]
     },
     "execution_count": 21,
     "metadata": {},
     "output_type": "execute_result"
    }
   ],
   "source": [
    "pca_k_train_x.shape, pca_k_test_x.shape"
   ]
  },
  {
   "cell_type": "code",
   "execution_count": 22,
   "metadata": {},
   "outputs": [],
   "source": [
    "# between class scatter matrix\n",
    "S_b = np.outer((M1 - M0), (M1 - M0).T)"
   ]
  },
  {
   "cell_type": "code",
   "execution_count": 23,
   "metadata": {},
   "outputs": [],
   "source": [
    "# within class scatter matrix\n",
    "S_w = np.zeros_like(S_b)\n",
    "for i, sample in enumerate(pca_k_train_x):\n",
    "    if train_y[i] == 0:\n",
    "        S_w = S_w + np.outer((sample - M0), (sample - M0).T)\n",
    "    else:\n",
    "        S_w = S_w + np.outer((sample - M1), (sample - M1).T)"
   ]
  },
  {
   "cell_type": "code",
   "execution_count": 24,
   "metadata": {},
   "outputs": [],
   "source": [
    "'''The following is a slightly different approach for finding the projection vector'''\n",
    "# for linear projection constants don't make a difference, so\n",
    "# W = lambda (inv(S_w) @ S_b @ W)\n",
    "# S_b @ W = (M1 - M0) @ (M1 - M0).T @ W = k (M1 - M0), where k = (m1 - m0)\n",
    "# Thus, W = inv(S_w) @ (M1 - M0)\n",
    "W = np.matmul(np.linalg.inv(S_w), (M1 - M0).reshape(-1, 1))"
   ]
  },
  {
   "cell_type": "code",
   "execution_count": 25,
   "metadata": {},
   "outputs": [],
   "source": [
    "x_lda_train = np.matmul(pca_k_train_x, W).reshape(-1)\n",
    "x_lda_test = np.matmul(pca_k_test_x, W).reshape(-1)"
   ]
  },
  {
   "cell_type": "code",
   "execution_count": 26,
   "metadata": {},
   "outputs": [],
   "source": [
    "# find max and min value for the projected value of each class\n",
    "max_0, min_0 = np.max(x_lda_train[y_train == 0]), np.min(x_lda_train[y_train == 0])\n",
    "max_1, min_1 = np.max(x_lda_train[y_train == 1]), np.min(x_lda_train[y_train == 1])"
   ]
  },
  {
   "cell_type": "code",
   "execution_count": 27,
   "metadata": {},
   "outputs": [],
   "source": [
    "# maximum separability threshold - heuristic\n",
    "threshold_start, threshold_end = min(max_0, max_1), max(min_0, min_1)\n",
    "optimal_threshold = (threshold_start + threshold_end) / 2\n",
    "# threshold value after multiple runs with different values of K\n",
    "# can be seen to be closer to 0. \n",
    "# Using optimal_threshold = 0 is thus a better choice than using the\n",
    "# above heuristic"
   ]
  },
  {
   "cell_type": "code",
   "execution_count": 28,
   "metadata": {},
   "outputs": [
    {
     "data": {
      "image/png": "[encoded data removed]",
      "text/plain": [
       "<Figure size 432x288 with 1 Axes>"
      ]
     },
     "metadata": {
      "needs_background": "light"
     },
     "output_type": "display_data"
    }
   ],
   "source": [
    "sns.scatterplot(x=x_lda_train, y=[0]*len(y_train), hue=['h' if s_class == 1 else 's' for s_class in y_train], palette=['blue', 'green'])\n",
    "plt.vlines(optimal_threshold, -1, 1, colors='r', linestyles='--', label='threshold')\n",
    "plt.xlabel('One dimension feature values')\n",
    "plt.yticks([])\n",
    "plt.title('Training Data Projection')\n",
    "plt.legend()\n",
    "plt.show()"
   ]
  },
  {
   "cell_type": "code",
   "execution_count": 29,
   "metadata": {},
   "outputs": [
    {
     "ename": "NameError",
     "evalue": "name 'class_1_majority' is not defined",
     "output_type": "error",
     "traceback": [
      "\u001b[0;31m---------------------------------------------------------------------------\u001b[0m",
      "\u001b[0;31mNameError\u001b[0m                                 Traceback (most recent call last)",
      "\u001b[0;32m<ipython-input-29-655bbb087e6c>\u001b[0m in \u001b[0;36m<module>\u001b[0;34m\u001b[0m\n\u001b[0;32m----> 1\u001b[0;31m \u001b[0mclass_1_majority\u001b[0m\u001b[0;34m\u001b[0m\u001b[0;34m\u001b[0m\u001b[0m\n\u001b[0m",
      "\u001b[0;31mNameError\u001b[0m: name 'class_1_majority' is not defined"
     ]
    }
   ],
   "source": [
    "class_1_majority"
   ]
  },
  {
   "cell_type": "code",
   "execution_count": null,
   "metadata": {},
   "outputs": [],
   "source": [
    "classification_test_labels = [1 if class_1_majority * sample_class >= class_1_majority * optimal_threshold else 0 \n",
    "                                  for sample_class in lda_test_x]\n",
    "accuracy = sum([yhat == y for yhat, y in zip(classification_test_labels, test_y)]) / len(test_y) * 100\n",
    "accuracy"
   ]
  },
  {
   "cell_type": "code",
   "execution_count": null,
   "metadata": {},
   "outputs": [],
   "source": [
    "#Fisher ratio calculation \n",
    "J = (np.matmul(np.matmul(W.T, S_b) , W) / np.matmul(W.T, np.matmul(S_w, W)))[0, 0]\n",
    "print(J)"
   ]
  },
  {
   "cell_type": "code",
   "execution_count": null,
   "metadata": {},
   "outputs": [],
   "source": []
  }
 ],
 "metadata": {
  "kernelspec": {
   "display_name": "Python 3",
   "language": "python",
   "name": "python3"
  },
  "language_info": {
   "codemirror_mode": {
    "name": "ipython",
    "version": 3
   },
   "file_extension": ".py",
   "mimetype": "text/x-python",
   "name": "python",
   "nbconvert_exporter": "python",
   "pygments_lexer": "ipython3",
   "version": "3.8.10"
  }
 },
 "nbformat": 4,
 "nbformat_minor": 5
}

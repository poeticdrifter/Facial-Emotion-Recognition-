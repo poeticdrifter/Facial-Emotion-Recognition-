{
 "cells": [
  {
   "cell_type": "markdown",
   "metadata": {},
   "source": [
    "Author: Satendra Yadav"
   ]
  },
  {
   "cell_type": "markdown",
   "metadata": {
    "id": "qCNFXdD6TLaB"
   },
   "source": [
    "\n",
    "### Import libraries"
   ]
  },
  {
   "cell_type": "code",
   "execution_count": 4,
   "metadata": {
    "id": "GlEQSIlhTLaL"
   },
   "outputs": [],
   "source": [
    "import os\n",
    "import numpy as np\n",
    "from PIL import Image\n",
    "import seaborn as sns\n",
    "import subprocess as sp\n",
    "import matplotlib.pyplot as plt\n",
    "from collections import Counter"
   ]
  },
  {
   "cell_type": "markdown",
   "metadata": {
    "id": "tdtWU1OFTLaP"
   },
   "source": [
    "### Set paths"
   ]
  },
  {
   "cell_type": "code",
   "execution_count": 5,
   "metadata": {
    "id": "tcrHeu_DTLaQ"
   },
   "outputs": [],
   "source": [
    "path = 'Data/emotion_classification/'\n",
    "train_path = os.path.join(path, 'train')\n",
    "test_path = os.path.join(path, 'test')"
   ]
  },
  {
   "cell_type": "code",
   "execution_count": null,
   "metadata": {},
   "outputs": [],
   "source": []
  },
  {
   "cell_type": "markdown",
   "metadata": {
    "id": "V-gPuboETLaS"
   },
   "source": [
    "### Load files"
   ]
  },
  {
   "cell_type": "code",
   "execution_count": 6,
   "metadata": {
    "id": "rIlbZwB-TLaT"
   },
   "outputs": [],
   "source": [
    "train_files = sp.getoutput(f'ls {train_path} | grep .gif').split(\"\\n\")\n",
    "test_files = sp.getoutput(f'ls {test_path} | grep .gif').split(\"\\n\")"
   ]
  },
  {
   "cell_type": "code",
   "execution_count": 7,
   "metadata": {
    "id": "CDPSaJWPTLaU"
   },
   "outputs": [],
   "source": [
    "train_files = [os.path.join(train_path, f_name) for f_name in train_files]\n",
    "test_files = [os.path.join(test_path, f_name) for f_name in test_files]"
   ]
  },
  {
   "cell_type": "markdown",
   "metadata": {
    "id": "v-abeNPuTLaW"
   },
   "source": [
    "### Extract labels for data"
   ]
  },
  {
   "cell_type": "code",
   "execution_count": 8,
   "metadata": {
    "id": "PIEju7rCTLaY"
   },
   "outputs": [],
   "source": [
    "train_y = np.array([1 if 'happy' in f_name else 0 for f_name in train_files])\n",
    "test_y = np.array([1 if 'happy' in f_name else 0 for f_name in test_files])\n"
   ]
  },
  {
   "cell_type": "markdown",
   "metadata": {
    "id": "p9li310UTLaZ"
   },
   "source": [
    "### Create feature matrix"
   ]
  },
  {
   "cell_type": "code",
   "execution_count": 9,
   "metadata": {
    "id": "bCQtUVYnTLaa"
   },
   "outputs": [],
   "source": [
    "train_x = np.stack([np.array(Image.open(f_name)).reshape(-1) for f_name in train_files])\n",
    "test_x = np.stack([np.array(Image.open(f_name)).reshape(-1) for f_name in test_files])\n"
   ]
  },
  {
   "cell_type": "markdown",
   "metadata": {
    "id": "bVQHAEvsTLab"
   },
   "source": [
    "### Mean normalization"
   ]
  },
  {
   "cell_type": "code",
   "execution_count": 10,
   "metadata": {
    "id": "PK6apn-6TLac"
   },
   "outputs": [],
   "source": [
    "mean = train_x.mean(axis=0)\n",
    "train_x = train_x - mean\n",
    "test_x = test_x - mean"
   ]
  },
  {
   "cell_type": "markdown",
   "metadata": {
    "id": "8-a0yRLFTLad"
   },
   "source": [
    "### Computing the PCA components"
   ]
  },
  {
   "cell_type": "code",
   "execution_count": 11,
   "metadata": {
    "id": "GPCDPN2tTLae"
   },
   "outputs": [],
   "source": [
    "# we will use SVD decomposition to extract the principal components\n",
    "# A = U S Vt\n",
    "# columns of matrix V are the eigen(here right singular) vectors of the covariance matrix.\n",
    "# The vectors are already sorted according to their values\n",
    "U, S, Vt = np.linalg.svd(train_x, full_matrices=True)"
   ]
  },
  {
   "cell_type": "code",
   "execution_count": 12,
   "metadata": {
    "id": "uhjRk9IlTLaf",
    "outputId": "a16007d3-0d9f-40a7-b52d-45de56903cbd"
   },
   "outputs": [
    {
     "data": {
      "text/plain": [
       "array([8.13518673e+07, 3.93221461e+07, 3.24692516e+07, 1.93360217e+07,\n",
       "       1.53448924e+07, 1.48530491e+07, 1.25407327e+07, 1.00795877e+07,\n",
       "       7.86345772e+06, 7.54817924e+06, 6.45100542e+06, 6.26153115e+06,\n",
       "       4.74969176e+06, 4.23894861e+06, 3.60987178e+06, 3.39283628e+06,\n",
       "       2.89195650e+06, 2.46185219e+06, 1.73952015e+06, 5.78946906e-24])"
      ]
     },
     "execution_count": 12,
     "metadata": {},
     "output_type": "execute_result"
    }
   ],
   "source": [
    "# eigen values are\n",
    "S ** 2"
   ]
  },
  {
   "cell_type": "markdown",
   "metadata": {
    "id": "PuQV8btOTLah"
   },
   "source": [
    "As there are only 20 singular values we can restrict the value of K to be used for LDA to lie in the range 1 to 20"
   ]
  },
  {
   "cell_type": "code",
   "execution_count": 13,
   "metadata": {
    "id": "Yg7tl_B6TLah"
   },
   "outputs": [],
   "source": [
    "# PCA components\n",
    "components = Vt.T"
   ]
  },
  {
   "cell_type": "markdown",
   "metadata": {
    "id": "6icHh26UTLai"
   },
   "source": [
    "### Setting the value of K"
   ]
  },
  {
   "cell_type": "code",
   "execution_count": 14,
   "metadata": {
    "id": "VOhHk4NNTLai"
   },
   "outputs": [],
   "source": [
    "# we will perform this for only a single value of K\n",
    "# it is expected that you can modify the code\n",
    "# by introducing helper functions, to run\n",
    "# the analysis for other different values\n",
    "K = 16"
   ]
  },
  {
   "cell_type": "code",
   "execution_count": 15,
   "metadata": {
    "id": "vJnGrxmCTLaj"
   },
   "outputs": [],
   "source": [
    "pca_k_train_x = np.matmul(train_x, components[: , :K])\n",
    "pca_k_test_x = np.matmul(test_x, components[: , :K])"
   ]
  },
  {
   "cell_type": "code",
   "execution_count": 16,
   "metadata": {
    "id": "LRXtqjpzTLaj",
    "outputId": "cf8f78f6-65cc-4190-86ce-ad4024e5bce4"
   },
   "outputs": [
    {
     "data": {
      "text/plain": [
       "array([[-5201.09637131, -1514.31966279,    62.3638011 ,  1518.82640326,\n",
       "         -166.37442961,  1337.37648971,  1075.96591831,  -404.67248369,\n",
       "          813.43301963,  -802.79051535,    75.21768345,  -103.12141265,\n",
       "          -12.19801064,   116.13297134,  -128.89723226,   -79.63185501],\n",
       "       [  814.20480483, -1705.65188506,  -852.30242028, -1296.08072841,\n",
       "         1257.19753867,   496.46553016,   131.30847756, -1020.58733772,\n",
       "          -83.99403429,   604.12281305,  -900.49581481,  -389.63985853,\n",
       "          360.48846133,   312.07986213,   -46.50783128,  -265.48220801],\n",
       "       [  211.08888696, -1012.64850542,   -59.17845159,  -465.71623094,\n",
       "         1420.73456925,  -581.80367995,   446.08630891,   175.4611775 ,\n",
       "          -21.91426729,    36.69435999,  -656.54244965,  -301.30790838,\n",
       "          376.93250923,   285.1659284 ,  -136.63575473,   278.6203517 ],\n",
       "       [-3240.18555858,  -995.57130442,  -369.11282874,   457.18923468,\n",
       "          -79.05846631,  -136.42160773,  -154.980039  ,   705.97206536,\n",
       "        -1107.51446615,  1212.94669084,   843.99632776,   273.65584059,\n",
       "          881.57377073,  -281.5021616 ,   243.64521683,  -108.51915551],\n",
       "       [   73.46373108,   956.60609851,   809.95953364, -1240.85595708,\n",
       "         -404.82304744,   626.83215927,   798.68573419,   321.69752312,\n",
       "          587.88160996,   208.21747372,   362.99508438,  -615.82416015,\n",
       "         -170.56690112,   353.23811731,  -219.44287407,  -527.70173044],\n",
       "       [  144.20776799,  1320.20834802,  1277.00980711, -1430.14383   ,\n",
       "         -223.79608856,   412.63205574,   655.57248416,   673.01454006,\n",
       "         -141.51395512,   537.88065381,   809.26987193,  -536.42669068,\n",
       "         -481.12221851,   363.25402775,   158.47526189,    86.54344496],\n",
       "       [  -54.28777009,   922.94553696,   226.27082028,  -569.47721017,\n",
       "          437.4347768 ,  -134.73798218,   852.32235634,  -411.0444997 ,\n",
       "         -486.17992872,  -394.41791246,   306.6170077 ,   -62.35154566,\n",
       "          137.70763505,  -721.95874626,  -729.71942693,  1172.17312521],\n",
       "       [ 1796.78442144,  -266.6592309 ,   832.28075534,    35.38705126,\n",
       "          480.12338035,  1385.22828356,  -822.65470515,  -196.53429538,\n",
       "          637.06223589,  -138.69883575,   220.93704064,   291.25437062,\n",
       "         -264.87992307,  -325.47822097,   986.23737875,   622.11944413],\n",
       "       [ 1909.44553051,   838.9134825 ,   733.84977567,    92.35133186,\n",
       "          284.65285005,   661.83345341,  -176.06690748,  -310.20442572,\n",
       "          983.88086986,   663.67646224,    44.48575698,   781.46882643,\n",
       "          597.24827795,  -854.99861751,  -190.35537591,  -519.36572304],\n",
       "       [ 1920.85683718, -3126.6648132 ,  -219.34312486,  -918.04955754,\n",
       "        -1485.58679001,   252.78180286,   595.24864657,  -325.86890144,\n",
       "        -1052.00548033,  -545.02039569,   -16.06910353,   489.80569803,\n",
       "         -411.81728059,  -148.50361523,   406.52277842,  -147.93220618],\n",
       "       [ 2694.33470469, -1749.24449932,   908.92719305,    42.84324791,\n",
       "         -440.27768471,  -922.30020098,  -251.13889703,  1348.67443715,\n",
       "          603.52860352,  -964.86273102,   259.62817977,   347.39030294,\n",
       "          583.45792786,   202.13592719,  -551.90538002,  -122.90928738],\n",
       "       [ -316.28138483, -1901.62230198,  -287.18726578,   791.89776639,\n",
       "          497.47412195, -1040.59058968, -1082.34112562,  -226.70371421,\n",
       "          636.76630804,   941.92255105,   571.75403588,   237.93130807,\n",
       "         -973.38025325,   527.64374814,  -346.21933849,   343.32768959],\n",
       "       [ -990.81090851,   614.23696185, -1331.62307862,   -20.03593894,\n",
       "         1407.04156814, -1650.53872875,   668.89395863,   666.47694246,\n",
       "          174.03905041,  -546.97012159,   -34.09308923,  -118.53845678,\n",
       "         -674.04085808,  -807.84703139,   576.11535245,  -510.89453598],\n",
       "       [  340.44324858,   312.26491574,  1231.49815063,   919.28720701,\n",
       "        -1942.29680143, -1678.58427807,   175.3264862 , -1061.78221753,\n",
       "          388.0856337 ,   494.66967261,  -490.14183808,  -932.35377722,\n",
       "          202.08847141,  -319.80912153,   274.67840881,    91.87222853],\n",
       "       [  610.86374068,  1234.50255628,  2297.57986541,  1782.25274434,\n",
       "          330.3215844 ,   390.92155121,   485.71740127,   826.41421346,\n",
       "         -867.54545496,   327.560885  , -1213.82728921,   557.7938093 ,\n",
       "         -420.51482594,   320.39513636,   -29.56636257,    -9.62517785],\n",
       "       [-4409.520915  ,  1009.34007453,   580.48606962, -1899.86989268,\n",
       "         -692.33810423,  -214.24768485, -1909.85679623,   233.19187237,\n",
       "           17.37663197,  -482.25697197,  -803.58902286,   336.21996139,\n",
       "          -25.60536369,   -32.61381104,   -44.92661064,    45.31632592],\n",
       "       [ 1281.05323309,   468.44158628,   591.59248296,  1143.38836419,\n",
       "          767.63737988,   516.81653778, -1567.47213261,  -549.54471791,\n",
       "         -994.02326305,  -849.39487903,   577.40618287, -1122.31119729,\n",
       "           44.81873098,   -56.49124157,  -206.59758616,  -460.24203839],\n",
       "       [  155.54627084,  2379.59068441,  -513.65069953,    19.99901741,\n",
       "          149.30204785,  -865.46952835,   418.61109509, -1434.4567121 ,\n",
       "         -231.5532336 ,  -505.29173756,   573.35293156,  1154.99732179,\n",
       "          262.5883261 ,   859.48967915,   178.45513516,  -174.70405891],\n",
       "       [ 1066.8077285 ,  1027.03206951, -3090.12052137,   351.16966063,\n",
       "        -1042.29928089,   811.04369016,  -187.77337984,    77.41378482,\n",
       "         -182.29033143,   348.04171388,  -292.16382673,   177.41504769,\n",
       "         -635.97273552,  -336.0550187 ,  -731.18664613,  -172.61764204],\n",
       "       [ 1193.08200197,  1188.2998885 , -2829.29986404,   685.63731682,\n",
       "         -555.06912416,   332.76272668,  -151.45488427,   913.0827491 ,\n",
       "          326.48045196,  -146.0291758 ,  -238.73766881,  -466.05747951,\n",
       "          623.19425976,   545.72218803,   537.83088689,   459.65300868]])"
      ]
     },
     "execution_count": 16,
     "metadata": {},
     "output_type": "execute_result"
    }
   ],
   "source": [
    "pca_k_train_x.shape, pca_k_test_x.shape"
   ]
  },
  {
   "cell_type": "markdown",
   "metadata": {
    "id": "ISfBcvnMTLak"
   },
   "source": [
    "### Performing LDA"
   ]
  },
  {
   "cell_type": "code",
   "execution_count": 17,
   "metadata": {
    "id": "KYCeQI1STLak"
   },
   "outputs": [],
   "source": [
    "# class means\n",
    "M0 = pca_k_train_x[train_y == 0].mean(axis=0)\n",
    "M1 = pca_k_train_x[train_y == 1].mean(axis=0)"
   ]
  },
  {
   "cell_type": "code",
   "execution_count": 18,
   "metadata": {
    "id": "COFzUSQSTLak"
   },
   "outputs": [],
   "source": [
    "# between class scatter matrix\n",
    "S_b = np.outer((M1 - M0), (M1 - M0).T)"
   ]
  },
  {
   "cell_type": "code",
   "execution_count": 19,
   "metadata": {
    "id": "7enjhiw7TLal"
   },
   "outputs": [],
   "source": [
    "# within class scatter matrix\n",
    "S_w = np.zeros_like(S_b)\n",
    "for i, sample in enumerate(pca_k_train_x):\n",
    "    if train_y[i] == 0:\n",
    "        S_w = S_w + np.outer((sample - M0), (sample - M0).T)\n",
    "    else:\n",
    "        S_w = S_w + np.outer((sample - M1), (sample - M1).T)"
   ]
  },
  {
   "cell_type": "code",
   "execution_count": 20,
   "metadata": {
    "id": "4_HfoT1DTLal"
   },
   "outputs": [],
   "source": [
    "'''The following is a slightly different approach for finding the projection vector'''\n",
    "# for linear projection constants don't make a difference, so\n",
    "# W = lambda (inv(S_w) @ S_b @ W)\n",
    "# S_b @ W = (M1 - M0) @ (M1 - M0).T @ W = k (M1 - M0), where k = (m1 - m0)\n",
    "# Thus, W = inv(S_w) @ (M1 - M0)\n",
    "W = np.matmul(np.linalg.inv(S_w), (M1 - M0).reshape(-1, 1))"
   ]
  },
  {
   "cell_type": "markdown",
   "metadata": {
    "id": "g_r3RbF0TLam"
   },
   "source": [
    "### LDA Transformation"
   ]
  },
  {
   "cell_type": "code",
   "execution_count": 21,
   "metadata": {
    "id": "aa3icRwITLam"
   },
   "outputs": [],
   "source": [
    "lda_train_x = np.matmul(pca_k_train_x, W).reshape(-1)\n",
    "lda_test_x = np.matmul(pca_k_test_x, W).reshape(-1)"
   ]
  },
  {
   "cell_type": "markdown",
   "metadata": {
    "id": "Zk05YFOZTLam"
   },
   "source": [
    "### Finding Threshold"
   ]
  },
  {
   "cell_type": "code",
   "execution_count": 22,
   "metadata": {
    "id": "Gg0G6WG8TLan"
   },
   "outputs": [],
   "source": [
    "# find max and min value for the projected value of each class\n",
    "max_0, min_0 = np.max(lda_train_x[train_y == 0]), np.min(lda_train_x[train_y == 0])\n",
    "max_1, min_1 = np.max(lda_train_x[train_y == 1]), np.min(lda_train_x[train_y == 1])"
   ]
  },
  {
   "cell_type": "code",
   "execution_count": 23,
   "metadata": {
    "id": "p4vkr95vTLan"
   },
   "outputs": [],
   "source": [
    "# maximum separability threshold - heuristic\n",
    "threshold_start, threshold_end = min(max_0, max_1), max(min_0, min_1)\n",
    "optimal_threshold = (threshold_start + threshold_end) / 2\n",
    "# threshold value after multiple runs with different values of K\n",
    "# can be seen to be closer to 0. \n",
    "# Using optimal_threshold = 0 is thus a better choice than using the\n",
    "# above heuristic"
   ]
  },
  {
   "cell_type": "markdown",
   "metadata": {
    "id": "v09-bKcOTLan"
   },
   "source": [
    "### Visualize the separation for train and test set"
   ]
  },
  {
   "cell_type": "code",
   "execution_count": 24,
   "metadata": {
    "id": "7kc_cjqgTLan",
    "outputId": "fe34dd37-289c-4119-91f7-47d3aeee617c",
    "scrolled": true
   },
   "outputs": [
    {
     "data": {
      "image/png": "[encoded data removed]",
      "text/plain": [
       "<Figure size 432x288 with 1 Axes>"
      ]
     },
     "metadata": {
      "needs_background": "light"
     },
     "output_type": "display_data"
    }
   ],
   "source": [
    "sns.scatterplot(x=lda_train_x, y=[0]*len(train_y), hue=['happy' if s_class == 1 else 'sad' for s_class in train_y], palette=['blue', 'green'])\n",
    "plt.vlines(optimal_threshold, -1, 1, colors='r', linestyles='--', label='threshold')\n",
    "plt.xlabel('One dimension feature values')\n",
    "plt.yticks([])\n",
    "plt.title('Training Data Projection')\n",
    "plt.legend()\n",
    "plt.show()"
   ]
  },
  {
   "cell_type": "code",
   "execution_count": 25,
   "metadata": {
    "id": "oDJOhfcJTLao",
    "outputId": "d6232616-9d08-4c02-b49a-a4af590d8485"
   },
   "outputs": [
    {
     "data": {
      "image/png": "[encoded data removed]",
      "text/plain": [
       "<Figure size 432x288 with 1 Axes>"
      ]
     },
     "metadata": {
      "needs_background": "light"
     },
     "output_type": "display_data"
    }
   ],
   "source": [
    "sns.scatterplot(x=lda_test_x, y=[0]*len(test_y), hue=['happy' if s_class == 1 else 'sad' for s_class in test_y], palette=['green', 'blue'])\n",
    "plt.vlines(optimal_threshold, -1, 1, colors='r', linestyles='--', label='threshold')\n",
    "plt.xlabel('One dimension feature values')\n",
    "plt.yticks([])\n",
    "plt.title('Test Data Projection')\n",
    "plt.legend()\n",
    "plt.show()"
   ]
  },
  {
   "cell_type": "markdown",
   "metadata": {
    "id": "xRecQX1LTLao"
   },
   "source": [
    "### Accuracy on test set"
   ]
  },
  {
   "cell_type": "code",
   "execution_count": 26,
   "metadata": {
    "id": "LIYE0KAaTLap"
   },
   "outputs": [],
   "source": [
    "# find which side of the threshold majority of a particular label resides\n",
    "class_1_train_labels = Counter([1 if sample_class >= optimal_threshold else -1\n",
    "                                    for sample_class in lda_train_x[train_y == 1]])\n",
    "class_1_majority = class_1_train_labels.most_common()[0][0]"
   ]
  },
  {
   "cell_type": "code",
   "execution_count": 27,
   "metadata": {
    "id": "ag7L6RQ6TLap",
    "outputId": "a74a571f-6a5c-4abc-ffb4-23482df7ffb8"
   },
   "outputs": [
    {
     "data": {
      "text/plain": [
       "1"
      ]
     },
     "execution_count": 27,
     "metadata": {},
     "output_type": "execute_result"
    }
   ],
   "source": [
    "class_1_majority"
   ]
  },
  {
   "cell_type": "code",
   "execution_count": 28,
   "metadata": {
    "id": "fXhMn-k7TLap",
    "outputId": "ae12ef48-63f5-41c7-e43e-300973f744f6"
   },
   "outputs": [
    {
     "data": {
      "text/plain": [
       "90.0"
      ]
     },
     "execution_count": 28,
     "metadata": {},
     "output_type": "execute_result"
    }
   ],
   "source": [
    "classification_test_labels = [1 if class_1_majority * sample_class >= class_1_majority * optimal_threshold else 0 \n",
    "                                  for sample_class in lda_test_x]\n",
    "accuracy = sum([yhat == y for yhat, y in zip(classification_test_labels, test_y)]) / len(test_y) * 100\n",
    "accuracy"
   ]
  },
  {
   "cell_type": "markdown",
   "metadata": {
    "id": "zHyDm3hXTLap"
   },
   "source": [
    "### Separability measure"
   ]
  },
  {
   "cell_type": "code",
   "execution_count": 29,
   "metadata": {
    "id": "bKQVhwjsTLaq",
    "outputId": "a410c801-92d3-4fd6-ba23-345be66c0436"
   },
   "outputs": [
    {
     "data": {
      "text/plain": [
       "2.0044757846726653"
      ]
     },
     "execution_count": 29,
     "metadata": {},
     "output_type": "execute_result"
    }
   ],
   "source": [
    "J = ((W.T @ S_b @ W) / (W.T @ S_w @ W))[0, 0]\n",
    "J"
   ]
  }
 ],
 "metadata": {
  "colab": {
   "name": "Q4_Fischer faces.ipynb",
   "provenance": []
  },
  "kernelspec": {
   "display_name": "Python 3",
   "language": "python",
   "name": "python3"
  },
  "language_info": {
   "codemirror_mode": {
    "name": "ipython",
    "version": 3
   },
   "file_extension": ".py",
   "mimetype": "text/x-python",
   "name": "python",
   "nbconvert_exporter": "python",
   "pygments_lexer": "ipython3",
   "version": "3.8.10"
  }
 },
 "nbformat": 4,
 "nbformat_minor": 1
}
